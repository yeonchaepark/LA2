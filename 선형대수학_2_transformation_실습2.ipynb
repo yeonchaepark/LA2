{
  "nbformat": 4,
  "nbformat_minor": 0,
  "metadata": {
    "colab": {
      "provenance": [],
      "include_colab_link": true
    },
    "kernelspec": {
      "name": "python3",
      "display_name": "Python 3"
    },
    "language_info": {
      "name": "python"
    }
  },
  "cells": [
    {
      "cell_type": "markdown",
      "metadata": {
        "id": "view-in-github",
        "colab_type": "text"
      },
      "source": [
        "<a href=\"https://colab.research.google.com/github/yeonchaepark/LA2/blob/main/%EC%84%A0%ED%98%95%EB%8C%80%EC%88%98%ED%95%99_2_transformation_%EC%8B%A4%EC%8A%B52.ipynb\" target=\"_parent\"><img src=\"https://colab.research.google.com/assets/colab-badge.svg\" alt=\"Open In Colab\"/></a>"
      ]
    },
    {
      "cell_type": "markdown",
      "source": [
        "### 라이브러리 선언"
      ],
      "metadata": {
        "id": "VcKvO8KcJ9AJ"
      }
    },
    {
      "cell_type": "code",
      "source": [
        "import numpy as np\n",
        "import matplotlib.pyplot as plt\n",
        "from matplotlib.patches import Polygon\n",
        "\n",
        "INF = 1000  # 그림판 크기\n",
        "LEN = 100   # 처음 사각형의 크기"
      ],
      "metadata": {
        "id": "uwkBDldBERem"
      },
      "execution_count": 49,
      "outputs": []
    },
    {
      "cell_type": "markdown",
      "source": [
        "### 축 그리기 및 사각형 그리기"
      ],
      "metadata": {
        "id": "eSiS-XHya1FY"
      }
    },
    {
      "cell_type": "code",
      "source": [
        "def draw_axis(ax):\n",
        "  ax.axhline(0, color='black', alpha=0.3)  # x-axis line\n",
        "  ax.axvline(0, color='black', alpha=0.3)  # y-axis line\n",
        "  ax.set_xlim(-INF, INF)\n",
        "  ax.set_ylim(-INF, INF)\n",
        "  ax.set_aspect('equal')  # 정사각형 모양으로 backboard 그리기"
      ],
      "metadata": {
        "id": "_fc5wJBeKXDN"
      },
      "execution_count": 50,
      "outputs": []
    },
    {
      "cell_type": "code",
      "source": [
        "def draw_rectangle(ax, p1, p2, p3, p4):\n",
        "  my_polygon = Polygon([p1, p2, p3, p4])\n",
        "  ax.add_patch(my_polygon)"
      ],
      "metadata": {
        "id": "0XC7sFs9Hf3e"
      },
      "execution_count": 51,
      "outputs": []
    },
    {
      "cell_type": "code",
      "source": [
        "def draw_object(ax):\n",
        "  p1 = np.array([0, 0])\n",
        "  p2 = np.array([LEN, 0])\n",
        "  p3 = np.array([LEN, LEN])\n",
        "  p4 = np.array([0, LEN])\n",
        "\n",
        "  draw_rectangle(ax, p1, p2, p3, p4)"
      ],
      "metadata": {
        "id": "9_fAE1_kPjsv"
      },
      "execution_count": 52,
      "outputs": []
    },
    {
      "cell_type": "code",
      "source": [
        "# 그림판 선언 및 크기 설정\n",
        "fig, ax = plt.subplots(figsize=(7,7))\n",
        "\n",
        "# 축 그리기\n",
        "draw_axis(ax)\n",
        "\n",
        "# 물체 그리기\n",
        "draw_object(ax)\n",
        "\n",
        "plt.show()"
      ],
      "metadata": {
        "colab": {
          "base_uri": "https://localhost:8080/",
          "height": 605
        },
        "id": "L3r3ar9FQDKI",
        "outputId": "bb3fe570-e6fc-40fb-d628-4c622ef09eca"
      },
      "execution_count": 53,
      "outputs": [
        {
          "output_type": "display_data",
          "data": {
            "text/plain": [
              "<Figure size 700x700 with 1 Axes>"
            ],
            "image/png": "[encoded data removed]"
          },
          "metadata": {}
        }
      ]
    },
    {
      "cell_type": "markdown",
      "source": [
        "### 본론\n",
        "#### 1. 변환 구현\n",
        "* translate(p, dx, dy)\n",
        "* rotate(p, theta)  \n",
        "* scale(p, sx, sy)  \n",
        "* shear_x(p, sx)  \n",
        "* shear_y(p, sy)  \n",
        "* reflect_x(p)  \n",
        "* reflect_y(p)   \n",
        "* ..."
      ],
      "metadata": {
        "id": "6txnl6M2PeUz"
      }
    },
    {
      "cell_type": "code",
      "source": [
        "# 점 p를 x축 방향으로 dx만큼, y축 방향으로 dy만큼 이동시킨 점 q를 구할 것\n",
        "# q = T(dx, dy) p1\n",
        "def translate(p, dx, dy):\n",
        "  # 1. 동차좌표계 (homogeneous coordinate)으로 변환\n",
        "  hp = np.array([p[0], p[1], 1.0])\n",
        "\n",
        "  # 2. 이동 변환 행렬 생성\n",
        "  m = np.array([[1.0, 0.0, dx], [0.0, 1.0, dy], [0.0, 0.0, 1.0]])\n",
        "  \n",
        "  # 3. 행렬과 벡터의 곱\n",
        "  q = np.dot(m, hp)  # (3,3) x (3,1) -> (3,1)\n",
        "  #print(q)\n",
        "\n",
        "  # 4. 2차원 좌표계로 변환\n",
        "  q = np.array([q[0], q[1]])\n",
        "  return q"
      ],
      "metadata": {
        "id": "g1iKgeNoP-Bu"
      },
      "execution_count": 54,
      "outputs": []
    },
    {
      "cell_type": "code",
      "source": [
        "def rotate(p,theta):\n",
        "  # 1. 동차좌표계 변환\n",
        "  hp=np.array([p[0],p[1],1.0])\n",
        "\n",
        "  # 2. 회전 변환 행렬 생성\n",
        "  cos_theta=np.cos(theta)\n",
        "  sin_theta=np.sin(theta)\n",
        "  m=np.array([[cos_theta,-sin_theta,0.0],[sin_theta,cos_theta,0.0],[0.0,0.0,1.0]])\n",
        "\n",
        "  # 3. 행렬과 벡터의 곱\n",
        "  q=np.dot(m,hp)\n",
        "  #print(q)\n",
        "\n",
        "  # 4. 2차원 좌표계로 변환\n",
        "  q=np.array([q[0],q[1]])\n",
        "  return q\n"
      ],
      "metadata": {
        "id": "JjU7Zry7gLM5"
      },
      "execution_count": 55,
      "outputs": []
    },
    {
      "cell_type": "code",
      "source": [
        "def scale(p,sx,sy):\n",
        "  # 1. 동차 좌표계 변환\n",
        "  hp=np.array([p[0],p[1],1.0])\n",
        "  # 2. 크기 변환 행렬 생성\n",
        "  m=np.array([[sx,0.0,0.0],[0.0,sy,0.0],[0.0,0.0,1.0]])\n",
        "  # 3. 행렬과 벡터의 곱\n",
        "  q=np.dot(m,hp)\n",
        "  #print(q)\n",
        "  # 4. 2차원 좌표계로 변환\n",
        "  q=np.array([q[0],q[1]])\n",
        "  return q"
      ],
      "metadata": {
        "id": "N2qtpqx1dPI-"
      },
      "execution_count": 56,
      "outputs": []
    },
    {
      "cell_type": "code",
      "source": [
        "def shear_x(p,sx):\n",
        "  # 1. 동차 좌표계 변환\n",
        "  hp=np.array([p[0],p[1],1.0])\n",
        "  # 2. 기울기 변환 행렬 생성\n",
        "  m=np.array([[1.0,sx,0.0],[0.0,1.0,0.0],[0.0,0.0,0.0]])\n",
        "  # 3. 행렬과 벡터의 곱\n",
        "  q=np.dot(m,hp)\n",
        "  #print(q)\n",
        "  # 4. 2차원 좌표계로 변환\n",
        "  q=np.array([q[0],q[1]])\n",
        "  return q"
      ],
      "metadata": {
        "id": "kRVnYbt-di5w"
      },
      "execution_count": 57,
      "outputs": []
    },
    {
      "cell_type": "code",
      "source": [
        "def shear_y(p,sy):\n",
        "  # 1. 동차 좌표계 변환\n",
        "  hp=np.array([p[0],p[1],1.0])\n",
        "  # 2. 기울기 변환 행렬 생성\n",
        "  m=np.array([[1.0,0.0,0.0],[sy,1.0,0.0],[0.0,0.0,0.0]])\n",
        "  # 3. 행렬과 벡터의 곱\n",
        "  q=np.dot(m,hp)\n",
        "  #print(q)\n",
        "  # 4. 2차원 좌표계로 변환\n",
        "  q=np.array([q[0],q[1]])\n",
        "  return q"
      ],
      "metadata": {
        "id": "Dola9PakegCK"
      },
      "execution_count": 58,
      "outputs": []
    },
    {
      "cell_type": "code",
      "source": [
        "def reflect_x(p):\n",
        "  # 1. 동차 좌표계 변환\n",
        "  hp=np.array([p[0],p[1],1.0])\n",
        "  # 2. x축 반전 변환 행렬 생성\n",
        "  m=np.array([[1.0,0.0,0.0],[0.0,-1.0,0.0],[0.0,0.0,0.0]])\n",
        "  # 3. 행렬과 벡터의 곱\n",
        "  q=np.dot(m,hp)\n",
        "  #print(q)\n",
        "  # 4. 2차원 좌표계로 변환\n",
        "  q=np.array([q[0],q[1]])\n",
        "  return q"
      ],
      "metadata": {
        "id": "boKGF9HJev7N"
      },
      "execution_count": 59,
      "outputs": []
    },
    {
      "cell_type": "code",
      "source": [
        "def reflect_y(p):\n",
        "  # 1. 동차 좌표계 변환\n",
        "  hp=np.array([p[0],p[1],1.0])\n",
        "  # 2. y축 반전 변환 행렬 생성\n",
        "  m=np.array([[-1.0,0.0,0.0],[0.0,1.0,0.0],[0.0,0.0,0.0]])\n",
        "  # 3. 행렬과 벡터의 곱\n",
        "  q=np.dot(m,hp)\n",
        "  #print(q)\n",
        "  # 4. 2차원 좌표계로 변환\n",
        "  q=np.array([q[0],q[1]])\n",
        "  return q"
      ],
      "metadata": {
        "id": "40cvXkPEfAJ4"
      },
      "execution_count": 60,
      "outputs": []
    },
    {
      "cell_type": "code",
      "source": [
        "def reflect_o(p):\n",
        "  # 1. 동차 좌표계 변환\n",
        "  hp=np.array([p[0],p[1],1.0])\n",
        "  # 2. 원점 반전 변환 행렬 생성\n",
        "  m=np.array([[-1.0,0.0,0.0],[0.0,-1.0,0.0],[0.0,0.0,0.0]])\n",
        "  # 3. 행렬과 벡터의 곱\n",
        "  q=np.dot(m,hp)\n",
        "  #print(q)\n",
        "  # 4. 2차원 좌표계로 변환\n",
        "  q=np.array([q[0],q[1]])\n",
        "  return q"
      ],
      "metadata": {
        "id": "6nxZnpN3fNfE"
      },
      "execution_count": 61,
      "outputs": []
    },
    {
      "cell_type": "code",
      "source": [
        "def reflect_yx(p):\n",
        "  # 1. 동차 좌표계 변환\n",
        "  hp=np.array([p[0],p[1],1.0])\n",
        "  # 2. y=x 반전 변환 행렬 생성\n",
        "  m=np.array([[0.0,1.0,0.0],[1.0,0.0,0.0],[0.0,0.0,0.0]])\n",
        "  # 3. 행렬과 벡터의 곱\n",
        "  q=np.dot(m,hp)\n",
        "  #print(q)\n",
        "  # 4. 2차원 좌표계로 변환\n",
        "  q=np.array([q[0],q[1]])\n",
        "  return q"
      ],
      "metadata": {
        "id": "9dcp_wvQfaqE"
      },
      "execution_count": 62,
      "outputs": []
    },
    {
      "cell_type": "markdown",
      "source": [
        "#### 2. 파트 그리기\n",
        "* draw_cockpit(p1, p2, p3, p4)    # 중앙 조종석\n",
        "* draw_left_arm(p1, p2, p3, p4)   # 왼쪽 날개축\n",
        "* draw_left_wing(p1, p2, p3, p4)  # 왼쪽 날개\n",
        "* draw_right_arm(p1, p2, p3, p4)  # 오른쪽 날개축\n",
        "* draw_right_wing(p1, p2, p3, p4) # 오른쪽 날개"
      ],
      "metadata": {
        "id": "E_jHSezpTC-9"
      }
    },
    {
      "cell_type": "code",
      "source": [
        "def draw_cockpit(ax, p1, p2, p3, p4):  # 중앙 조종석\n",
        "  # 1. 사각형을 원점으로 이동 변환: T(-LEN/2, -LEN/2)\n",
        "  # q = T(-LEN/2, -LEN/2)p\n",
        "  q1 = translate(p1, -LEN/2, -LEN/2)\n",
        "  q2 = translate(p2, -LEN/2, -LEN/2)\n",
        "  q3 = translate(p3, -LEN/2, -LEN/2)\n",
        "  q4 = translate(p4, -LEN/2, -LEN/2)\n",
        "\n",
        "  \n",
        "  # 2. 크기 변환: S(5, 5)\n",
        "  s = 5\n",
        "  q1 = scale(q1, s, s)\n",
        "  q2 = scale(q2, s, s)\n",
        "  q3 = scale(q3, s, s)\n",
        "  q4 = scale(q4, s, s)\n",
        "  \n",
        "  # 3. 회전 변환: R(pi/4)\n",
        "  q1 = rotate(q1, 3.14/4.0)\n",
        "  q2 = rotate(q2, 3.14/4.0)\n",
        "  q3 = rotate(q3, 3.14/4.0)\n",
        "  q4 = rotate(q4, 3.14/4.0)\n",
        "\n",
        "  # 4. polygon 그리기\n",
        "  draw_rectangle(ax, q1, q2, q3, q4)\n",
        "  \n",
        "  # 5. 마름모를 1도씩 360도 돌려 원에 가깝게 만들기 ->회전 변환함수 이용\n",
        "  for i in range(1,360):\n",
        "    q1 = rotate(q1, 3.14/360.0)\n",
        "    q2 = rotate(q2, 3.14/360.0)\n",
        "    q3 = rotate(q3, 3.14/360.0)\n",
        "    q4 = rotate(q4, 3.14/360.0)\n",
        "\n",
        "    # 5-1. polygon 그리기\n",
        "    draw_rectangle(ax, q1, q2, q3, q4)\n"
      ],
      "metadata": {
        "id": "6C7a4CH4HSj0"
      },
      "execution_count": 63,
      "outputs": []
    },
    {
      "cell_type": "code",
      "source": [
        "def draw_left_arm(p1,p2,p3,p4):# 왼쪽 날개축\n",
        "  \n",
        "  # 1. 크기 변환: S(20,5)\n",
        "  \n",
        "  sx=7\n",
        "  sy=1\n",
        "  q1=scale(p1,sx,sy)\n",
        "  q2=scale(p2,sx,sy)\n",
        "  q3=scale(p3,sx,sy)\n",
        "  q4=scale(p4,sx,sy)\n",
        "  \n",
        "  # 2. 회전 변환\n",
        "\n",
        "  q1=rotate(q1,-3.14/15.0)\n",
        "  q2=rotate(q2,-3.14/15.0)\n",
        "  q3=rotate(q3,-3.14/15.0)\n",
        "  q4=rotate(q4,-3.14/15.0)\n",
        "\n",
        "  \n",
        "  # 3. 이동 변환\n",
        "  \n",
        "  dx=80\n",
        "  dy=100\n",
        "  q1=translate(q1,dx,0) ## q1의 y변화량만 0으로 두면 사다리꼴 모양이 나온다.\n",
        "  q2=translate(q2,dx,dy)\n",
        "  \n",
        "  q3=translate(q3,dx,dy)\n",
        "  q4=translate(q4,dx,dy)\n",
        "\n",
        " \n",
        "  \n",
        "  # 4. polygon 그리기 \n",
        "  draw_rectangle(ax, q1, q2, q3, q4)\n",
        "\n",
        "  # 5. x축 기준 반전 변환\n",
        "\n",
        "  q1=reflect_x(q1)\n",
        "  q2=reflect_x(q2)\n",
        "  q3=reflect_x(q3)\n",
        "  q4=reflect_x(q4)\n",
        "\n",
        "\n",
        "  # 6. polygon 그리기\n",
        "  draw_rectangle(ax, q1, q2, q3, q4)\n"
      ],
      "metadata": {
        "id": "SF33qZETjECU"
      },
      "execution_count": 64,
      "outputs": []
    },
    {
      "cell_type": "code",
      "source": [
        "def draw_left_wing(p1, p2, p3, p4): # 왼쪽 날개\n",
        "  # 1. 사각형을 원점으로 이동 변환: T(-LEN/2, -LEN/2)\n",
        "  # q = T(-LEN/2, -LEN/2)p\n",
        "  q1 = translate(p1, -LEN/2, -LEN/2)\n",
        "  q2 = translate(p2, -LEN/2, -LEN/2)\n",
        "  q3 = translate(p3, -LEN/2, -LEN/2)\n",
        "  q4 = translate(p4, -LEN/2, -LEN/2)\n",
        "\n",
        "  # 2. 크기 변환: S(20,5)\n",
        "  \n",
        "  sx=1\n",
        "  sy=5\n",
        "  \n",
        "  q1=scale(q1,sx,sy)\n",
        "  q2=scale(q2,sx,sy)\n",
        "  q3=scale(q3,sx,sy)\n",
        "  q4=scale(q4,sx,sy)\n",
        "  \n",
        "  \n",
        "  # 3. 이동 변환\n",
        "  \n",
        "  q1=translate(q1,800,0)\n",
        "  q2=translate(q2,800,0)\n",
        "  \n",
        "  q3=translate(q3,800,0)\n",
        "  q4=translate(q4,800,0)\n",
        "  \n",
        "  # 4. polygon 그리기\n",
        "  draw_rectangle(ax, q1, q2, q3, q4)\n"
      ],
      "metadata": {
        "id": "GtTByatTdgHR"
      },
      "execution_count": 65,
      "outputs": []
    },
    {
      "cell_type": "code",
      "source": [
        "def draw_left_aileron(p1,p2,p3,p4): #왼쪽 도움 날개\n",
        "  \n",
        "\n",
        "  # 1. 크기 변환: S(20,5)\n",
        "  \n",
        "  sx=1.33\n",
        "  sy=5\n",
        "  \n",
        "  q1=scale(p1,sx,sy)\n",
        "  q2=scale(p2,sx,sy)\n",
        "  q3=scale(p3,sx,sy)\n",
        "  q4=scale(p4,sx,sy)\n",
        "  \n",
        "  # 2. 회전 변환 (Pi/4.0)\n",
        "\n",
        "  q1=rotate(q1,3.14/4.0)\n",
        "  q2=rotate(q2,3.14/4.0)\n",
        "  q3=rotate(q3,3.14/4.0)\n",
        "  q4=rotate(q4,3.14/4.0)\n",
        "\n",
        "  \n",
        "  # 3. 이동 변환\n",
        "  dx=760\n",
        "  q1=translate(q1,dx,400)\n",
        "  q2=translate(q2,dx,400)\n",
        "  q3=translate(q3,dx,400)\n",
        "  q4=translate(q4,dx,300) #사다리꼴 모양을 위해\n",
        "\n",
        "  \n",
        "  \n",
        "  # 4. polygon 그리기\n",
        "  draw_rectangle(ax, q1, q2, q3, q4)\n",
        "  \n",
        "  # 5. 반전 변환. 하단은 x축 반전\n",
        "  q1=reflect_x(q1)\n",
        "  q2=reflect_x(q2)\n",
        "  q3=reflect_x(q3)\n",
        "  q4=reflect_x(q4)\n",
        "\n",
        "  # 6. polygon 그리기\n",
        "  draw_rectangle(ax, q1, q2, q3, q4)\n",
        "  "
      ],
      "metadata": {
        "id": "arXnL5J1yIQc"
      },
      "execution_count": 66,
      "outputs": []
    },
    {
      "cell_type": "code",
      "source": [
        "def draw_right_aileron(p1,p2,p3,p4): #오른쪽 도움 날개\n",
        "  \n",
        "\n",
        "  # 1. 크기 변환: S(20,5)\n",
        "  sx=1.33\n",
        "  sy=5\n",
        "  \n",
        "  q1=scale(p1,sx,sy)\n",
        "  q2=scale(p2,sx,sy)\n",
        "  q3=scale(p3,sx,sy)\n",
        "  q4=scale(p4,sx,sy)\n",
        "  \n",
        "  # 2. 회전 변환(45도)\n",
        "  q1=rotate(q1,3.14/4)\n",
        "  q2=rotate(q2,3.14/4)\n",
        "  q3=rotate(q3,3.14/4)\n",
        "  q4=rotate(q4,3.14/4)\n",
        "\n",
        "  \n",
        "  # 3. 이동 변환\n",
        "  dx=760\n",
        "  q1=translate(q1,dx,400)\n",
        "  q2=translate(q2,dx,400)\n",
        "  \n",
        "  q3=translate(q3,dx,400)\n",
        "  q4=translate(q4,dx,300)\n",
        "\n",
        "  # 4. 왼쪽 도움 날개를 y축 기준 반전 변환\n",
        "  q1=reflect_y(q1)\n",
        "  q2=reflect_y(q2)\n",
        "  q3=reflect_y(q3)\n",
        "  q4=reflect_y(q4)\n",
        "  \n",
        "  # 5. polygon 그리기\n",
        "  draw_rectangle(ax, q1, q2, q3, q4)\n",
        "  \n",
        "  # 6. 반전 변환. 하단은 x축 반전\n",
        "\n",
        "  q1=reflect_x(q1)\n",
        "  q2=reflect_x(q2)\n",
        "  q3=reflect_x(q3)\n",
        "  q4=reflect_x(q4)\n",
        "\n",
        "  # 7. polygon 그리기\n",
        "  draw_rectangle(ax, q1, q2, q3, q4)\n",
        "  "
      ],
      "metadata": {
        "id": "bRmOGkMb-RXB"
      },
      "execution_count": 67,
      "outputs": []
    },
    {
      "cell_type": "code",
      "source": [
        "def draw_right_wing(p1, p2, p3, p4): # 오른쪽 날개\n",
        "  # 1. 사각형을 원점으로 이동 변환: T(-LEN/2, -LEN/2)\n",
        "  # q = T(-LEN/2, -LEN/2)p\n",
        "  q1 = translate(p1, -LEN/2, -LEN/2)\n",
        "  q2 = translate(p2, -LEN/2, -LEN/2)\n",
        "  q3 = translate(p3, -LEN/2, -LEN/2)\n",
        "  q4 = translate(p4, -LEN/2, -LEN/2)\n",
        "\n",
        "  # 2. 크기 변환: S(20,5)\n",
        "  sx=1\n",
        "  sy=10\n",
        "  \n",
        "  q1=scale(q1,sx,sy)\n",
        "  q2=scale(q2,sx,sy)\n",
        "  q3=scale(q3,sx,sy)\n",
        "  q4=scale(q4,sx,sy)\n",
        "  \n",
        "  \n",
        "  # 3. 이동 변환\n",
        "  q1=translate(q1,800,0)\n",
        "  q2=translate(q2,800,0)\n",
        "  q3=translate(q3,800,0)\n",
        "  q4=translate(q4,800,0)\n",
        "  \n",
        "  # 4. polygon 그리기 \n",
        "  draw_rectangle(ax, q1, q2, q3, q4)\n",
        "\n",
        "  # 5. y축 기준 변환\n",
        "  q1=reflect_y(q1)\n",
        "  q2=reflect_y(q2)\n",
        "  q3=reflect_y(q3)\n",
        "  q4=reflect_y(q4)\n",
        "\n",
        "  # 6. polygon 그리기 \n",
        "  draw_rectangle(ax, q1, q2, q3, q4)"
      ],
      "metadata": {
        "id": "rCkn3V3xmaaC"
      },
      "execution_count": 68,
      "outputs": []
    },
    {
      "cell_type": "code",
      "source": [
        "def draw_right_arm(p1,p2,p3,p4):# 오른쪽 날개축\n",
        "  \n",
        "  # 1. 크기 변환: S(20,5)\n",
        "  \n",
        "  sx=7\n",
        "  sy=1\n",
        "  q1=scale(p1,sx,sy)\n",
        "  q2=scale(p2,sx,sy)\n",
        "  q3=scale(p3,sx,sy)\n",
        "  q4=scale(p4,sx,sy)\n",
        "  \n",
        "  # 2. 회전 변환\n",
        "  q1=rotate(q1,-3.14/15)\n",
        "  q2=rotate(q2,-3.14/15)\n",
        "  q3=rotate(q3,-3.14/15)\n",
        "  q4=rotate(q4,-3.14/15)\n",
        "\n",
        "  \n",
        "  # 3. 이동 변환\n",
        "  \n",
        "  dx=70\n",
        "  dy=100\n",
        "  q1=translate(q1,dx,0)\n",
        "  q2=translate(q2,dx,dy)\n",
        "  q3=translate(q3,dx,dy)\n",
        "  q4=translate(q4,dx,dy)\n",
        "\n",
        "  # 4. y축 기준 반전 변환\n",
        "  q1=reflect_y(q1)\n",
        "  q2=reflect_y(q2)\n",
        "  q3=reflect_y(q3)\n",
        "  q4=reflect_y(q4)\n",
        "  \n",
        "  # 5. polygon 그리기 \n",
        "  draw_rectangle(ax, q1, q2, q3, q4)\n",
        "  # 6. x축 기준 반전 변환\n",
        "  q1=reflect_x(q1)\n",
        "  q2=reflect_x(q2)\n",
        "  q3=reflect_x(q3)\n",
        "  q4=reflect_x(q4)\n",
        "  # 7. polygon 그리기 \n",
        "  draw_rectangle(ax, q1, q2, q3, q4)\n"
      ],
      "metadata": {
        "id": "CW9MTGc4chMQ"
      },
      "execution_count": 69,
      "outputs": []
    },
    {
      "cell_type": "code",
      "source": [
        "def draw_star(p1,p2,p3,p4):# 별 만들기\n",
        "  \"\"\"\n",
        "  마름모를 2개 교차해 별 만들기\n",
        "  \"\"\"\n",
        "  # 1. 사각형을 원점으로 이동 변환: T(-LEN/2, -LEN/2)\n",
        "  # q = T(-LEN/2, -LEN/2)p\n",
        "  q1 = translate(p1, -LEN/2, -LEN/2)\n",
        "  q2 = translate(p2, -LEN/2, -LEN/2)\n",
        "  q3 = translate(p3, -LEN/2, -LEN/2)\n",
        "  q4 = translate(p4, -LEN/2, -LEN/2)\n",
        "  \n",
        "  # 2. 회전 변환: R(pi/4)\n",
        "  q1 = rotate(q1, 3.14/4.0)\n",
        "  q2 = rotate(q2, 3.14/4.0)\n",
        "  q3 = rotate(q3, 3.14/4.0)\n",
        "  q4 = rotate(q4, 3.14/4.0)\n",
        "\n",
        "  # 3. 크기 변환: S(5, 5)\n",
        "  s = 0.5\n",
        "  q1 = scale(q1, s, 0.8)\n",
        "  q2 = scale(q2, s, 0.8)\n",
        "  q3 = scale(q3, s, 0.8)\n",
        "  q4 = scale(q4, s, 0.8)\n",
        "\n",
        "  # 4. 이동 변환\n",
        "  dx=-400\n",
        "  dy=-500\n",
        "  q1=translate(q1,dx,dy)\n",
        "  q2=translate(q2,dx,dy)\n",
        "  q3=translate(q3,dx,dy)\n",
        "  q4=translate(q4,dx,dy)\n",
        "\n",
        "  # 5. polygon 그리기\n",
        "  draw_rectangle(ax, q1, q2, q3, q4)\n",
        "\n",
        "  # 1. 사각형을 원점으로 이동 변환: T(-LEN/2, -LEN/2)\n",
        "  # q = T(-LEN/2, -LEN/2)p\n",
        "  q1 = translate(p1, -LEN/2, -LEN/2)\n",
        "  q2 = translate(p2, -LEN/2, -LEN/2)\n",
        "  q3 = translate(p3, -LEN/2, -LEN/2)\n",
        "  q4 = translate(p4, -LEN/2, -LEN/2)\n",
        "\n",
        "  # 2. 회전 변환: R(pi/4)\n",
        "  q1 = rotate(q1, 3.14/4.0)\n",
        "  q2 = rotate(q2, 3.14/4.0)\n",
        "  q3 = rotate(q3, 3.14/4.0)\n",
        "  q4 = rotate(q4, 3.14/4.0)\n",
        "\n",
        "  # 3. 크기 변환: S(5, 5)\n",
        "  s = 0.8\n",
        "  q1 = scale(q1, s, 0.5)\n",
        "  q2 = scale(q2, s, 0.5)\n",
        "  q3 = scale(q3, s, 0.5)\n",
        "  q4 = scale(q4, s, 0.5)\n",
        "\n",
        "  # 4. 이동 변환\n",
        "  dx=-400\n",
        "  dy=-500\n",
        "  q1=translate(q1,dx,dy)\n",
        "  q2=translate(q2,dx,dy)\n",
        "  \n",
        "  q3=translate(q3,dx,dy)\n",
        "  q4=translate(q4,dx,dy)\n",
        "\n",
        "  # 5. polygon 그리기\n",
        "  draw_rectangle(ax, q1, q2, q3, q4)\n",
        "\n",
        "### 2번째 별 만들기 ###\n",
        "\n",
        "# 1. 사각형을 원점으로 이동 변환: T(-LEN/2, -LEN/2)\n",
        "  # q = T(-LEN/2, -LEN/2)p\n",
        "  q1 = translate(p1, -LEN/2, -LEN/2)\n",
        "  q2 = translate(p2, -LEN/2, -LEN/2)\n",
        "  q3 = translate(p3, -LEN/2, -LEN/2)\n",
        "  q4 = translate(p4, -LEN/2, -LEN/2)\n",
        "  \n",
        "  # 2. 회전 변환: R(pi/4)\n",
        "  q1 = rotate(q1, 3.14/4.0)\n",
        "  q2 = rotate(q2, 3.14/4.0)\n",
        "  q3 = rotate(q3, 3.14/4.0)\n",
        "  q4 = rotate(q4, 3.14/4.0)\n",
        "\n",
        "  # 3. 크기 변환: S(5, 5)\n",
        "  s = 0.3\n",
        "  q1 = scale(q1, s, 0.5)\n",
        "  q2 = scale(q2, s, 0.5)\n",
        "  q3 = scale(q3, s, 0.5)\n",
        "  q4 = scale(q4, s, 0.5)\n",
        "\n",
        "  # 4. 이동 변환\n",
        "  dx=400\n",
        "  dy=500\n",
        "  q1=translate(q1,dx,dy)\n",
        "  q2=translate(q2,dx,dy)\n",
        "  q3=translate(q3,dx,dy)\n",
        "  q4=translate(q4,dx,dy)\n",
        "\n",
        "  #5polygon 그리기\n",
        "  draw_rectangle(ax, q1, q2, q3, q4)\n",
        "\n",
        "  # 1. 사각형을 원점으로 이동 변환: T(-LEN/2, -LEN/2)\n",
        "  # q = T(-LEN/2, -LEN/2)p\n",
        "  q1 = translate(p1, -LEN/2, -LEN/2)\n",
        "  q2 = translate(p2, -LEN/2, -LEN/2)\n",
        "  q3 = translate(p3, -LEN/2, -LEN/2)\n",
        "  q4 = translate(p4, -LEN/2, -LEN/2)\n",
        "  \n",
        "  # 2. 회전 변환: R(pi/4)\n",
        "  q1 = rotate(q1, 3.14/4.0)\n",
        "  q2 = rotate(q2, 3.14/4.0)\n",
        "  q3 = rotate(q3, 3.14/4.0)\n",
        "  q4 = rotate(q4, 3.14/4.0)\n",
        "\n",
        "  # 3. 크기 변환: S(5, 5)\n",
        "  s = 0.5\n",
        "  q1 = scale(q1, s, 0.3)\n",
        "  q2 = scale(q2, s, 0.3)\n",
        "  q3 = scale(q3, s, 0.3)\n",
        "  q4 = scale(q4, s, 0.3)\n",
        "\n",
        "  # 4. 이동 변환\n",
        "  dx=400\n",
        "  dy=500\n",
        "  q1=translate(q1,dx,dy)\n",
        "  q2=translate(q2,dx,dy)\n",
        "  \n",
        "  q3=translate(q3,dx,dy)\n",
        "  q4=translate(q4,dx,dy)\n",
        "\n",
        "  # 5. polygon 그리기\n",
        "  draw_rectangle(ax, q1, q2, q3, q4)"
      ],
      "metadata": {
        "id": "qIrIQkHLBjT5"
      },
      "execution_count": 70,
      "outputs": []
    },
    {
      "cell_type": "code",
      "execution_count": 71,
      "metadata": {
        "id": "hMI0xB0pDlnU"
      },
      "outputs": [],
      "source": [
        "# 2. tiefigher 그리기\n",
        "def draw_object(ax):\n",
        "  p1 = np.array([0, 0])\n",
        "  p2 = np.array([LEN, 0])\n",
        "  p3 = np.array([LEN, LEN])\n",
        "  p4 = np.array([0, LEN])\n",
        "\n",
        "  ####위는 건드리지 말 것!\n",
        "\n",
        "  # 1. 중앙 조종석 그리기\n",
        "  draw_cockpit(ax, p1, p2, p3, p4)\n",
        "\n",
        "  # 2. 왼쪽 날개축 그리기\n",
        "  draw_left_arm(p1, p2, p3, p4) \n",
        "  \n",
        "  # 3. 왼쪽 날개 그리기\n",
        "  draw_left_wing(p1, p2, p3, p4) \n",
        "  \n",
        "\n",
        "  # 4. 오른쪽 날개축 그리기\n",
        "  draw_right_arm(p1, p2, p3, p4) \n",
        "  \n",
        "  \n",
        "  # 5. 오른쪽 날개 그리기\n",
        "  draw_right_wing(p1, p2, p3, p4) \n",
        "  \n",
        "  \n",
        "  # 6. 별 만들기\n",
        "  draw_star(p1,p2,p3,p4)\n",
        "\n",
        "  # 7.왼쪽 도움 날개 그리기 (꺾인부분)\n",
        "  draw_left_aileron(p1,p2,p3,p4)\n",
        "\n",
        "  # 8. 오른쪽 도움 날개 그리기 (꺾인 부분)\n",
        "  draw_right_aileron(p1,p2,p3,p4)\n",
        "\n",
        "\n",
        "  "
      ]
    },
    {
      "cell_type": "markdown",
      "source": [
        "### 3. main"
      ],
      "metadata": {
        "id": "24hO1zQaHiFJ"
      }
    },
    {
      "cell_type": "code",
      "source": [
        "# 그림판 선언 및 크기 설정\n",
        "fig, ax = plt.subplots(figsize=(7,7))\n",
        "\n",
        "# 축 그리기\n",
        "draw_axis(ax)\n",
        "\n",
        "# 물체 그리기\n",
        "draw_object(ax)\n",
        "\n",
        "plt.show()"
      ],
      "metadata": {
        "colab": {
          "base_uri": "https://localhost:8080/",
          "height": 605
        },
        "id": "1Bdz-KxWLLHb",
        "outputId": "afc9a4d9-92f8-41a6-9984-7737d98b1d56"
      },
      "execution_count": 72,
      "outputs": [
        {
          "output_type": "display_data",
          "data": {
            "text/plain": [
              "<Figure size 700x700 with 1 Axes>"
            ],
            "image/png": "[encoded data removed]"
          },
          "metadata": {}
        }
      ]
    }
  ]
}