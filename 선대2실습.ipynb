{
  "nbformat": 4,
  "nbformat_minor": 0,
  "metadata": {
    "colab": {
      "provenance": [],
      "mount_file_id": "1vNfIPQXNBcuDHkbouTR4K2FFe1Wmp3j-",
      "authorship_tag": "ABX9TyPxugW7ieh3Z37FqGs1j4e+",
      "include_colab_link": true
    },
    "kernelspec": {
      "name": "python3",
      "display_name": "Python 3"
    },
    "language_info": {
      "name": "python"
    }
  },
  "cells": [
    {
      "cell_type": "markdown",
      "metadata": {
        "id": "view-in-github",
        "colab_type": "text"
      },
      "source": [
        "<a href=\"https://colab.research.google.com/github/yeonchaepark/LA2/blob/main/%EC%84%A0%EB%8C%802%EC%8B%A4%EC%8A%B5.ipynb\" target=\"_parent\"><img src=\"https://colab.research.google.com/assets/colab-badge.svg\" alt=\"Open In Colab\"/></a>"
      ]
    },
    {
      "cell_type": "code",
      "source": [],
      "metadata": {
        "id": "GohwUtr5dpKo"
      },
      "execution_count": null,
      "outputs": []
    },
    {
      "cell_type": "code",
      "execution_count": 46,
      "metadata": {
        "id": "YT1H1_899R2j"
      },
      "outputs": [],
      "source": [
        "import numpy as np "
      ]
    },
    {
      "cell_type": "code",
      "source": [
        "def print_val(x):\n",
        "  print(\"Type:\",type(x))\n",
        "  print(\"Shape:\",x.shape)\n",
        "  print(\"값:\\n\",x)\n",
        "  print(\"\")"
      ],
      "metadata": {
        "id": "5K0dYuFHKUB5"
      },
      "execution_count": 47,
      "outputs": []
    },
    {
      "cell_type": "code",
      "source": [
        "x=np.array([1,2,3])\n",
        "print_val(x)\n",
        "x[0]=5\n",
        "print_val(x)\n",
        "\n"
      ],
      "metadata": {
        "colab": {
          "base_uri": "https://localhost:8080/"
        },
        "id": "DW_xQBbALQ3A",
        "outputId": "63e367ba-cc47-42fc-fcb0-7a1b46d49ffa"
      },
      "execution_count": 45,
      "outputs": [
        {
          "output_type": "stream",
          "name": "stdout",
          "text": [
            "Type: <class 'numpy.ndarray'>\n",
            "Shape: (3,)\n",
            "값:\n",
            " [1 2 3]\n",
            "\n",
            "Type: <class 'numpy.ndarray'>\n",
            "Shape: (3,)\n",
            "값:\n",
            " [5 2 3]\n",
            "\n"
          ]
        }
      ]
    },
    {
      "cell_type": "code",
      "source": [
        "y=np.array([[1,2,3],[4,5,6]])\n",
        "print_val(y)"
      ],
      "metadata": {
        "colab": {
          "base_uri": "https://localhost:8080/"
        },
        "id": "88RNVyqqLlXi",
        "outputId": "caa7f936-9978-4cf2-f812-9a79c139ef40"
      },
      "execution_count": 9,
      "outputs": [
        {
          "output_type": "stream",
          "name": "stdout",
          "text": [
            "Type: <class 'numpy.ndarray'>\n",
            "Shape: (2, 3)\n",
            "값:\n",
            " [[1 2 3]\n",
            " [4 5 6]]\n",
            "\n"
          ]
        }
      ]
    },
    {
      "cell_type": "code",
      "source": [
        "a=np.zeros((2,2))\n",
        "print_val(a)\n"
      ],
      "metadata": {
        "colab": {
          "base_uri": "https://localhost:8080/"
        },
        "id": "o_7Lai0ML2NF",
        "outputId": "dfec2e63-a073-4003-a33e-3bb977e66c97"
      },
      "execution_count": 10,
      "outputs": [
        {
          "output_type": "stream",
          "name": "stdout",
          "text": [
            "Type: <class 'numpy.ndarray'>\n",
            "Shape: (2, 2)\n",
            "값:\n",
            " [[0. 0.]\n",
            " [0. 0.]]\n",
            "\n"
          ]
        }
      ]
    },
    {
      "cell_type": "code",
      "source": [
        "a=np.ones((3,2))\n",
        "print_val(a)"
      ],
      "metadata": {
        "colab": {
          "base_uri": "https://localhost:8080/"
        },
        "id": "7g-pNmEDL7FX",
        "outputId": "919c9a53-3374-4126-9de8-f2e63fafdd6c"
      },
      "execution_count": 11,
      "outputs": [
        {
          "output_type": "stream",
          "name": "stdout",
          "text": [
            "Type: <class 'numpy.ndarray'>\n",
            "Shape: (3, 2)\n",
            "값:\n",
            " [[1. 1.]\n",
            " [1. 1.]\n",
            " [1. 1.]]\n",
            "\n"
          ]
        }
      ]
    },
    {
      "cell_type": "code",
      "source": [
        "a=np.eye(3,3)\n",
        "print_val(a)"
      ],
      "metadata": {
        "colab": {
          "base_uri": "https://localhost:8080/"
        },
        "id": "FoIkDjEiL_br",
        "outputId": "43e69746-751c-41d9-887e-bf160c1e5590"
      },
      "execution_count": 12,
      "outputs": [
        {
          "output_type": "stream",
          "name": "stdout",
          "text": [
            "Type: <class 'numpy.ndarray'>\n",
            "Shape: (3, 3)\n",
            "값:\n",
            " [[1. 0. 0.]\n",
            " [0. 1. 0.]\n",
            " [0. 0. 1.]]\n",
            "\n"
          ]
        }
      ]
    },
    {
      "cell_type": "code",
      "source": [
        "a=np.random.random((4,4))\n",
        "print_val(a)"
      ],
      "metadata": {
        "colab": {
          "base_uri": "https://localhost:8080/"
        },
        "id": "2fd53P02MVod",
        "outputId": "ebee9e17-a1d5-416d-d795-10eae08e47fe"
      },
      "execution_count": 13,
      "outputs": [
        {
          "output_type": "stream",
          "name": "stdout",
          "text": [
            "Type: <class 'numpy.ndarray'>\n",
            "Shape: (4, 4)\n",
            "값:\n",
            " [[0.61302281 0.29249723 0.3757748  0.22855265]\n",
            " [0.86693465 0.51720833 0.1491205  0.10047838]\n",
            " [0.92785345 0.04572171 0.458676   0.89049276]\n",
            " [0.16714738 0.34840799 0.53028215 0.75473388]]\n",
            "\n"
          ]
        }
      ]
    },
    {
      "cell_type": "code",
      "source": [
        "a=np.random.randn(4,4)\n",
        "print_val(a)"
      ],
      "metadata": {
        "colab": {
          "base_uri": "https://localhost:8080/"
        },
        "id": "8IVq7NLUMc8h",
        "outputId": "5f475e61-9a24-4a72-889e-ea3f7fae869f"
      },
      "execution_count": 14,
      "outputs": [
        {
          "output_type": "stream",
          "name": "stdout",
          "text": [
            "Type: <class 'numpy.ndarray'>\n",
            "Shape: (4, 4)\n",
            "값:\n",
            " [[ 0.65197548 -0.65200697 -1.31454182 -0.06978807]\n",
            " [ 0.12524161  0.55461788  0.20496693 -0.29060039]\n",
            " [-0.12234134 -0.39389789  0.59137184 -0.43435593]\n",
            " [-2.20688276 -1.47379009 -0.50758465  0.98883396]]\n",
            "\n"
          ]
        }
      ]
    },
    {
      "cell_type": "code",
      "source": [
        "a=np.array([[1,2,3,4],[5,6,7,8],[9,10,11,12]])\n",
        "print_val(a)"
      ],
      "metadata": {
        "colab": {
          "base_uri": "https://localhost:8080/"
        },
        "id": "ssM-BIOaMl7e",
        "outputId": "01eb6285-dd04-4129-a98b-2d4180d5af43"
      },
      "execution_count": 15,
      "outputs": [
        {
          "output_type": "stream",
          "name": "stdout",
          "text": [
            "Type: <class 'numpy.ndarray'>\n",
            "Shape: (3, 4)\n",
            "값:\n",
            " [[ 1  2  3  4]\n",
            " [ 5  6  7  8]\n",
            " [ 9 10 11 12]]\n",
            "\n"
          ]
        }
      ]
    },
    {
      "cell_type": "code",
      "source": [
        "b=a[:2,1:3]\n",
        "print_val(b)"
      ],
      "metadata": {
        "colab": {
          "base_uri": "https://localhost:8080/"
        },
        "id": "2Y36oDqUMx0g",
        "outputId": "2dbc3d62-a4d5-4656-f590-099e33a8d1ed"
      },
      "execution_count": 16,
      "outputs": [
        {
          "output_type": "stream",
          "name": "stdout",
          "text": [
            "Type: <class 'numpy.ndarray'>\n",
            "Shape: (2, 2)\n",
            "값:\n",
            " [[2 3]\n",
            " [6 7]]\n",
            "\n"
          ]
        }
      ]
    },
    {
      "cell_type": "code",
      "source": [
        "row1=a[1,:]\n",
        "print_val(row1)"
      ],
      "metadata": {
        "colab": {
          "base_uri": "https://localhost:8080/"
        },
        "id": "eH9u5vqINcxP",
        "outputId": "a8cb3538-f3d2-43c8-c270-8d8f9cb6e8af"
      },
      "execution_count": 17,
      "outputs": [
        {
          "output_type": "stream",
          "name": "stdout",
          "text": [
            "Type: <class 'numpy.ndarray'>\n",
            "Shape: (4,)\n",
            "값:\n",
            " [5 6 7 8]\n",
            "\n"
          ]
        }
      ]
    },
    {
      "cell_type": "code",
      "source": [
        "m1=np.array([[1,2],[3,4]], dtype=np.float64)\n",
        "m2=np.array([[5,6],[7,8]],dtype=np.float64)\n",
        "#elementwise sum\n",
        "print_val(m1 + m2)\n",
        "print_val(np.add(m1,m2))"
      ],
      "metadata": {
        "id": "6q7tRtTdNst5",
        "colab": {
          "base_uri": "https://localhost:8080/"
        },
        "outputId": "a2d9bca1-cefc-4bec-9c1f-633a968c1d38"
      },
      "execution_count": 18,
      "outputs": [
        {
          "output_type": "stream",
          "name": "stdout",
          "text": [
            "Type: <class 'numpy.ndarray'>\n",
            "Shape: (2, 2)\n",
            "값:\n",
            " [[ 6.  8.]\n",
            " [10. 12.]]\n",
            "\n",
            "Type: <class 'numpy.ndarray'>\n",
            "Shape: (2, 2)\n",
            "값:\n",
            " [[ 6.  8.]\n",
            " [10. 12.]]\n",
            "\n"
          ]
        }
      ]
    },
    {
      "cell_type": "code",
      "source": [
        "#elementwise difference\n",
        "print_val(m1-m2)\n",
        "print_val(np.subtract(m1,m2))"
      ],
      "metadata": {
        "colab": {
          "base_uri": "https://localhost:8080/"
        },
        "id": "dSX4FLU2XJET",
        "outputId": "002187fe-85aa-4c0b-b640-675169ccd35c"
      },
      "execution_count": 19,
      "outputs": [
        {
          "output_type": "stream",
          "name": "stdout",
          "text": [
            "Type: <class 'numpy.ndarray'>\n",
            "Shape: (2, 2)\n",
            "값:\n",
            " [[-4. -4.]\n",
            " [-4. -4.]]\n",
            "\n",
            "Type: <class 'numpy.ndarray'>\n",
            "Shape: (2, 2)\n",
            "값:\n",
            " [[-4. -4.]\n",
            " [-4. -4.]]\n",
            "\n"
          ]
        }
      ]
    },
    {
      "cell_type": "code",
      "source": [
        "#elementwise product\n",
        "print_val(m1*m2)\n",
        "print_val(np.multiply(m1,m2))"
      ],
      "metadata": {
        "colab": {
          "base_uri": "https://localhost:8080/"
        },
        "id": "Sf2AgnWAXT6j",
        "outputId": "9e987a2d-b0ca-450f-c80e-9fdfb68d6230"
      },
      "execution_count": 20,
      "outputs": [
        {
          "output_type": "stream",
          "name": "stdout",
          "text": [
            "Type: <class 'numpy.ndarray'>\n",
            "Shape: (2, 2)\n",
            "값:\n",
            " [[ 5. 12.]\n",
            " [21. 32.]]\n",
            "\n",
            "Type: <class 'numpy.ndarray'>\n",
            "Shape: (2, 2)\n",
            "값:\n",
            " [[ 5. 12.]\n",
            " [21. 32.]]\n",
            "\n"
          ]
        }
      ]
    },
    {
      "cell_type": "code",
      "source": [
        "#elementwise division\n",
        "print_val(m1/m2)\n",
        "print_val(np.divide(m1,m2))"
      ],
      "metadata": {
        "colab": {
          "base_uri": "https://localhost:8080/"
        },
        "id": "2kdAp6W1Xftp",
        "outputId": "2287e0a0-44eb-4f1b-83e6-c86bbf176441"
      },
      "execution_count": 21,
      "outputs": [
        {
          "output_type": "stream",
          "name": "stdout",
          "text": [
            "Type: <class 'numpy.ndarray'>\n",
            "Shape: (2, 2)\n",
            "값:\n",
            " [[0.2        0.33333333]\n",
            " [0.42857143 0.5       ]]\n",
            "\n",
            "Type: <class 'numpy.ndarray'>\n",
            "Shape: (2, 2)\n",
            "값:\n",
            " [[0.2        0.33333333]\n",
            " [0.42857143 0.5       ]]\n",
            "\n"
          ]
        }
      ]
    },
    {
      "cell_type": "code",
      "source": [
        "#elementwise square root\n",
        "print_val(np.sqrt(m1))"
      ],
      "metadata": {
        "colab": {
          "base_uri": "https://localhost:8080/"
        },
        "id": "CfvpXnjsXn3O",
        "outputId": "047e3910-95b7-496c-c5e7-66cfeea18d3a"
      },
      "execution_count": 22,
      "outputs": [
        {
          "output_type": "stream",
          "name": "stdout",
          "text": [
            "Type: <class 'numpy.ndarray'>\n",
            "Shape: (2, 2)\n",
            "값:\n",
            " [[1.         1.41421356]\n",
            " [1.73205081 2.        ]]\n",
            "\n"
          ]
        }
      ]
    },
    {
      "cell_type": "code",
      "source": [
        "m1=np.array([[1,2],[3,4]])\n",
        "m2=np.array([[5,6],[7,8]])\n",
        "v1=np.array([9,10])\n",
        "v2=np.array([11,12])\n",
        "\n",
        "print_val(m1)\n",
        "print_val(m2)\n",
        "print_val(v1)\n",
        "print_val(v2)\n"
      ],
      "metadata": {
        "colab": {
          "base_uri": "https://localhost:8080/"
        },
        "id": "V9TCOoXvXwBE",
        "outputId": "1d02468f-f14d-4169-babf-3d15b9640ea2"
      },
      "execution_count": 25,
      "outputs": [
        {
          "output_type": "stream",
          "name": "stdout",
          "text": [
            "Type: <class 'numpy.ndarray'>\n",
            "Shape: (2, 2)\n",
            "값:\n",
            " [[1 2]\n",
            " [3 4]]\n",
            "\n",
            "Type: <class 'numpy.ndarray'>\n",
            "Shape: (2, 2)\n",
            "값:\n",
            " [[5 6]\n",
            " [7 8]]\n",
            "\n",
            "Type: <class 'numpy.ndarray'>\n",
            "Shape: (2,)\n",
            "값:\n",
            " [ 9 10]\n",
            "\n",
            "Type: <class 'numpy.ndarray'>\n",
            "Shape: (2,)\n",
            "값:\n",
            " [11 12]\n",
            "\n"
          ]
        }
      ]
    },
    {
      "cell_type": "code",
      "source": [
        "print_val(v1.dot(v2))\n",
        "print_val(np.dot(v1,v2))"
      ],
      "metadata": {
        "colab": {
          "base_uri": "https://localhost:8080/"
        },
        "id": "vrFpIfjgYRg1",
        "outputId": "24a44ca0-3c3b-42ef-9c3f-488013ad7446"
      },
      "execution_count": 26,
      "outputs": [
        {
          "output_type": "stream",
          "name": "stdout",
          "text": [
            "Type: <class 'numpy.int64'>\n",
            "Shape: ()\n",
            "값:\n",
            " 219\n",
            "\n",
            "Type: <class 'numpy.int64'>\n",
            "Shape: ()\n",
            "값:\n",
            " 219\n",
            "\n"
          ]
        }
      ]
    },
    {
      "cell_type": "code",
      "source": [
        "print_val(m1.dot(v1))\n",
        "print_val(np.dot(m1,v1))"
      ],
      "metadata": {
        "colab": {
          "base_uri": "https://localhost:8080/"
        },
        "id": "nE47aqNIYi9D",
        "outputId": "79c69d8c-73ac-43ad-8131-ecaa3fad142f"
      },
      "execution_count": 30,
      "outputs": [
        {
          "output_type": "stream",
          "name": "stdout",
          "text": [
            "Type: <class 'numpy.ndarray'>\n",
            "Shape: (2,)\n",
            "값:\n",
            " [29 67]\n",
            "\n",
            "Type: <class 'numpy.ndarray'>\n",
            "Shape: (2,)\n",
            "값:\n",
            " [29 67]\n",
            "\n"
          ]
        }
      ]
    },
    {
      "cell_type": "code",
      "source": [
        "print_val(m1.dot(m2))\n",
        "print_val(np.dot(m1,m2))"
      ],
      "metadata": {
        "colab": {
          "base_uri": "https://localhost:8080/"
        },
        "id": "1g6YQ0M0Yyye",
        "outputId": "400f8985-d9f6-4990-c5a6-d22d78761b05"
      },
      "execution_count": 31,
      "outputs": [
        {
          "output_type": "stream",
          "name": "stdout",
          "text": [
            "Type: <class 'numpy.ndarray'>\n",
            "Shape: (2, 2)\n",
            "값:\n",
            " [[19 22]\n",
            " [43 50]]\n",
            "\n",
            "Type: <class 'numpy.ndarray'>\n",
            "Shape: (2, 2)\n",
            "값:\n",
            " [[19 22]\n",
            " [43 50]]\n",
            "\n"
          ]
        }
      ]
    },
    {
      "cell_type": "code",
      "source": [
        "print_val(m1)\n",
        "print_val(m1.T)"
      ],
      "metadata": {
        "colab": {
          "base_uri": "https://localhost:8080/"
        },
        "id": "OsN3B7JYZAyT",
        "outputId": "0d4663ac-cbb0-4840-d19b-e56fcec6445b"
      },
      "execution_count": 32,
      "outputs": [
        {
          "output_type": "stream",
          "name": "stdout",
          "text": [
            "Type: <class 'numpy.ndarray'>\n",
            "Shape: (2, 2)\n",
            "값:\n",
            " [[1 2]\n",
            " [3 4]]\n",
            "\n",
            "Type: <class 'numpy.ndarray'>\n",
            "Shape: (2, 2)\n",
            "값:\n",
            " [[1 3]\n",
            " [2 4]]\n",
            "\n"
          ]
        }
      ]
    },
    {
      "cell_type": "code",
      "source": [
        "print_val(np.sum(m1))\n",
        "print_val(np.sum(m1,axis=0))\n",
        "print_val(np.sum(m1,axis=1))"
      ],
      "metadata": {
        "colab": {
          "base_uri": "https://localhost:8080/"
        },
        "id": "X4DP2zgEZFyT",
        "outputId": "a8f5e79d-9fa1-42d0-9153-2c1a78b66744"
      },
      "execution_count": 33,
      "outputs": [
        {
          "output_type": "stream",
          "name": "stdout",
          "text": [
            "Type: <class 'numpy.int64'>\n",
            "Shape: ()\n",
            "값:\n",
            " 10\n",
            "\n",
            "Type: <class 'numpy.ndarray'>\n",
            "Shape: (2,)\n",
            "값:\n",
            " [4 6]\n",
            "\n",
            "Type: <class 'numpy.ndarray'>\n",
            "Shape: (2,)\n",
            "값:\n",
            " [3 7]\n",
            "\n"
          ]
        }
      ]
    },
    {
      "cell_type": "code",
      "source": [
        "m1=np.array([[1,2,3],[4,5,6]])\n",
        "print (m1)\n",
        "print (m1.shape)"
      ],
      "metadata": {
        "colab": {
          "base_uri": "https://localhost:8080/"
        },
        "id": "tmcCUcg7ZP56",
        "outputId": "4a42c936-7f58-489e-de2d-a86f07332a34"
      },
      "execution_count": 36,
      "outputs": [
        {
          "output_type": "stream",
          "name": "stdout",
          "text": [
            "[[1 2 3]\n",
            " [4 5 6]]\n",
            "(2, 3)\n"
          ]
        }
      ]
    },
    {
      "cell_type": "code",
      "source": [
        "print(np.sum(m1))\n",
        "print(np.sum(m1,axis=0))\n",
        "print (np.sum(m1,axis=1))"
      ],
      "metadata": {
        "colab": {
          "base_uri": "https://localhost:8080/"
        },
        "id": "0nuIkTj9ZwQj",
        "outputId": "5718275c-d476-4bcd-c9f2-5925455f1a66"
      },
      "execution_count": 37,
      "outputs": [
        {
          "output_type": "stream",
          "name": "stdout",
          "text": [
            "21\n",
            "[5 7 9]\n",
            "[ 6 15]\n"
          ]
        }
      ]
    },
    {
      "cell_type": "code",
      "source": [
        "m1=np.array([[1,2,3],[4,5,6],[7,8,9],[10,11,12]])\n",
        "m2=np.zeros_like(m1)\n",
        "print_val(m1)\n",
        "print_val(m2)"
      ],
      "metadata": {
        "colab": {
          "base_uri": "https://localhost:8080/"
        },
        "id": "OFCnkyFaZ-2j",
        "outputId": "714534d9-b2e5-455c-b57d-93ab5857ef99"
      },
      "execution_count": 38,
      "outputs": [
        {
          "output_type": "stream",
          "name": "stdout",
          "text": [
            "Type: <class 'numpy.ndarray'>\n",
            "Shape: (4, 3)\n",
            "값:\n",
            " [[ 1  2  3]\n",
            " [ 4  5  6]\n",
            " [ 7  8  9]\n",
            " [10 11 12]]\n",
            "\n",
            "Type: <class 'numpy.ndarray'>\n",
            "Shape: (4, 3)\n",
            "값:\n",
            " [[0 0 0]\n",
            " [0 0 0]\n",
            " [0 0 0]\n",
            " [0 0 0]]\n",
            "\n"
          ]
        }
      ]
    },
    {
      "cell_type": "code",
      "source": [
        "from ast import increment_lineno\n",
        "import matplotlib.pyplot as plt\n",
        "%matplotlib inline\n",
        "#sin 커브\n",
        "x=np.arange(0,10,0.1)\n",
        "y=np.sin(x)\n",
        "\n",
        "plt.plot(x,y)"
      ],
      "metadata": {
        "colab": {
          "base_uri": "https://localhost:8080/",
          "height": 284
        },
        "id": "K_dL0kwTaP0s",
        "outputId": "ecc0985b-5e3e-47d9-88fb-f080c2026d77"
      },
      "execution_count": 40,
      "outputs": [
        {
          "output_type": "execute_result",
          "data": {
            "text/plain": [
              "[<matplotlib.lines.Line2D at 0x7f5526328460>]"
            ]
          },
          "metadata": {},
          "execution_count": 40
        },
        {
          "output_type": "display_data",
          "data": {
            "text/plain": [
              "<Figure size 432x288 with 1 Axes>"
            ],
            "image/png": "[encoded data removed]"
          },
          "metadata": {
            "needs_background": "light"
          }
        }
      ]
    },
    {
      "cell_type": "code",
      "source": [
        "y_sin=np.sin(x)\n",
        "y_cos=np.cos(x)\n",
        "\n",
        "plt.plot(x,y_sin)\n",
        "plt.plot(x,y_cos)\n",
        "plt.xlabel('x axis label')\n",
        "plt.ylabel('y axis label')\n",
        "plt.title('sin and cos')\n",
        "plt.legend(['sin','cos'])\n",
        "\n",
        "plt.show()"
      ],
      "metadata": {
        "colab": {
          "base_uri": "https://localhost:8080/",
          "height": 295
        },
        "id": "MdfoyzT4aq6H",
        "outputId": "2ada4eb8-5da2-437f-cb14-8a690c68bb83"
      },
      "execution_count": 43,
      "outputs": [
        {
          "output_type": "display_data",
          "data": {
            "text/plain": [
              "<Figure size 432x288 with 1 Axes>"
            ],
            "image/png": "[encoded data removed]"
          },
          "metadata": {
            "needs_background": "light"
          }
        }
      ]
    },
    {
      "cell_type": "code",
      "source": [
        "plt.subplot(2,1,1)\n",
        "plt.plot(x,y_sin)\n",
        "plt.title('sin')\n",
        "\n",
        "plt.subplot(2,1,2)\n",
        "plt.plot(x,y_cos)\n",
        "plt.title('cos')\n",
        "\n",
        "plt.show()"
      ],
      "metadata": {
        "colab": {
          "base_uri": "https://localhost:8080/",
          "height": 281
        },
        "id": "A6IYtxTAbKzi",
        "outputId": "84237e28-7375-4d0f-a213-3abd412e2c1a"
      },
      "execution_count": 44,
      "outputs": [
        {
          "output_type": "display_data",
          "data": {
            "text/plain": [
              "<Figure size 432x288 with 2 Axes>"
            ],
            "image/png": "[encoded data removed]"
          },
          "metadata": {
            "needs_background": "light"
          }
        }
      ]
    }
  ]
}