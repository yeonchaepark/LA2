{
  "nbformat": 4,
  "nbformat_minor": 0,
  "metadata": {
    "colab": {
      "provenance": [],
      "authorship_tag": "ABX9TyNCswzoWdQnvD4qJ1SfQ0p7",
      "include_colab_link": true
    },
    "kernelspec": {
      "name": "python3",
      "display_name": "Python 3"
    },
    "language_info": {
      "name": "python"
    }
  },
  "cells": [
    {
      "cell_type": "markdown",
      "metadata": {
        "id": "view-in-github",
        "colab_type": "text"
      },
      "source": [
        "<a href=\"https://colab.research.google.com/github/yeonchaepark/LA2/blob/main/ex03_evalue%2Bevector.ipynb\" target=\"_parent\"><img src=\"https://colab.research.google.com/assets/colab-badge.svg\" alt=\"Open In Colab\"/></a>"
      ]
    },
    {
      "cell_type": "markdown",
      "source": [
        "#Part1. Eigen values & Eigen vectors  \n",
        "\n",
        "### 0. Import libraries\n"
      ],
      "metadata": {
        "id": "QCo6QfJ0MOOM"
      }
    },
    {
      "cell_type": "code",
      "execution_count": null,
      "metadata": {
        "id": "oA0kLrTuMA7t"
      },
      "outputs": [],
      "source": [
        "import numpy as np\n",
        "import numpy.linalg as npl #Linear Algebra\n",
        "import matplotlib.pyplot as plt"
      ]
    },
    {
      "cell_type": "markdown",
      "source": [
        "### < eigen values &eigen vectors of A >  \n",
        "$ Au=\\lambda u $  \n"
      ],
      "metadata": {
        "id": "5ZydLK32NIQT"
      }
    },
    {
      "cell_type": "code",
      "source": [
        "A=np.array([[4,2],[1,3]])\n",
        "print(\"A:\")\n",
        "print(A,\"\\n\")\n",
        "\n",
        "e_values, e_vectors=npl.eig(A)\n",
        "print(\"A의 고유값=\",e_values)\n",
        "print(\"A의 고유벡터=\",e_vectors)\n",
        "\n",
        "#eigen vector u1,u2\n",
        "u1=np.vstack(e_vectors[:,0])\n",
        "u2=np.vstack(e_vectors[:,1])\n",
        "print(\"u1: \",u1)\n",
        "print(\"u2: \",u2)\n",
        "\n",
        "#eigen value lambda1, lambda2\n",
        "l1, l2=e_values[0],e_values[1]\n",
        "print(\"eigen values: \", l1,l2,\"\\n\")\n",
        "\n",
        "#Check\n",
        "print(\"Au1: \",np.dot(A,u1))\n",
        "print(\"l1*u1: \",l1*u1)\n",
        "\n",
        "print(\"Au2: \",np.dot(A,u2))\n",
        "print(\"l2*u2: \",l2*u2)"
      ],
      "metadata": {
        "colab": {
          "base_uri": "https://localhost:8080/"
        },
        "id": "LUTq6yVRNCgS",
        "outputId": "39d0b6ae-1cfd-453c-c317-0ac8f8640409"
      },
      "execution_count": null,
      "outputs": [
        {
          "output_type": "stream",
          "name": "stdout",
          "text": [
            "A:\n",
            "[[4 2]\n",
            " [1 3]] \n",
            "\n",
            "A의 고유값= [5. 2.]\n",
            "A의 고유벡터= [[ 0.89442719 -0.70710678]\n",
            " [ 0.4472136   0.70710678]]\n",
            "u1:  [[0.89442719]\n",
            " [0.4472136 ]]\n",
            "u2:  [[-0.70710678]\n",
            " [ 0.70710678]]\n",
            "eigen values:  5.0 2.0 \n",
            "\n",
            "Au1:  [[4.47213595]\n",
            " [2.23606798]]\n",
            "l1*u1:  [[4.47213595]\n",
            " [2.23606798]]\n",
            "Au2:  [[-1.41421356]\n",
            " [ 1.41421356]]\n",
            "l2*u2:  [[-1.41421356]\n",
            " [ 1.41421356]]\n"
          ]
        }
      ]
    },
    {
      "cell_type": "code",
      "source": [
        "B=np.array([[5,2,0],[2,5,0],[-3,4,6]])\n",
        "w2, V2=npl.eig(B) #B의 고윳값과 고유벡터 계산\n",
        "\n",
        "print(\"\\nB의 고윳값=\",w2)\n",
        "print(\"B의 고유벡터=\",V2)"
      ],
      "metadata": {
        "colab": {
          "base_uri": "https://localhost:8080/"
        },
        "id": "K-OO_Uq_OYUF",
        "outputId": "768c800e-ea24-4414-8c1f-6c1c4adccc88"
      },
      "execution_count": null,
      "outputs": [
        {
          "output_type": "stream",
          "name": "stdout",
          "text": [
            "\n",
            "B의 고윳값= [6. 7. 3.]\n",
            "B의 고유벡터= [[ 0.          0.57735027  0.36650833]\n",
            " [ 0.          0.57735027 -0.36650833]\n",
            " [ 1.          0.57735027  0.85518611]]\n"
          ]
        }
      ]
    },
    {
      "cell_type": "code",
      "source": [],
      "metadata": {
        "id": "3smE-vgZRc2g"
      },
      "execution_count": null,
      "outputs": []
    }
  ]
}